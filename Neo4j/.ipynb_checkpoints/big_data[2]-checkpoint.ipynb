{
 "cells": [
  {
   "cell_type": "markdown",
   "id": "7580c952-86fa-461e-88f5-5d7055edfad8",
   "metadata": {},
   "source": [
    "executer ca dans new4j ↓"
   ]
  },
  {
   "cell_type": "raw",
   "id": "23c65856-6954-42d4-a36a-dbc041037d6d",
   "metadata": {},
   "source": [
    "#//Création du pays MAROC\n",
    "CREATE (p:PAYS {name:\"MAROC\"});\n",
    "\n",
    "#// Création des villes liées au pays MAROC et chargement des données CSV pour les hôtels à FES\n",
    "MATCH (p:PAYS {name:\"MAROC\"})\n",
    "CREATE (v1:VILLE {name:\"FES\"})-[:VILLE_DE]->(p),\n",
    "WITH p\n",
    "LOAD CSV WITH HEADERS FROM 'file:///Fes.csv' AS row\n",
    "MATCH (ville:VILLE {name: \"FES\"})\n",
    "CREATE (:HOTEL {name: row.name, longitude: toFloat(row.longitude), latitude: toFloat(row.latitude)})-[:HOTEL_DE]->(ville);\n"
   ]
  },
  {
   "cell_type": "markdown",
   "id": "7c5fe8fe-4cae-43e7-9091-ec272bf2b209",
   "metadata": {},
   "source": [
    "obtenire l'hotel le plus proche   ↓"
   ]
  },
  {
   "cell_type": "code",
   "execution_count": null,
   "id": "fb9a3949-9d7f-4a7f-8503-f85b59583c2e",
   "metadata": {},
   "outputs": [],
   "source": [
    "from neo4j import GraphDatabase\n",
    "\n",
    "# Définir les coordonnées du point A\n",
    "pointA_latitude =     34.0601753\n",
    "\n",
    "pointA_longitude =    \t-4.9819166 \n",
    "\n",
    "# Informations d'accès à la base de données Neo4j\n",
    "url = \"bolt://localhost:7687\"\n",
    "userName = \"neo4j\"\n",
    "password = \"123456789\"\n",
    "\n",
    "# Requête Cypher pour trouver l'hôtel le plus proche du point A\n",
    "cql_query = (\n",
    "   \"WITH point({latitude: $latitude, longitude: $longitude}) AS pointA \"\n",
    "    \"MATCH (h:HOTEL)-[:HOTEL_DE]->(v:VILLE ) \"\n",
    "    \"WITH pointA, h ,v, point({latitude: h.latitude, longitude: h.longitude}) AS hotelPoint \"\n",
    "    \"RETURN h.name AS Nom, h.latitude AS Latitude, h.longitude AS Longitude, v.name AS Nom_Ville,\"\n",
    "    \"point.distance(pointA, hotelPoint) AS distance \"\n",
    "    \"ORDER BY distance LIMIT 1\"\n",
    "\n",
    "\n",
    "\n",
    "\n",
    ")\n",
    "\n",
    "# Connexion à la base de données Neo4j\n",
    "graphDB_Driver = GraphDatabase.driver(url, auth=(userName, password))\n",
    "\n",
    "# Exécution de la requête Cypher et récupération des résultats\n",
    "with graphDB_Driver.session() as graphDB_Session:\n",
    "    result = graphDB_Session.run(cql_query, latitude=pointA_latitude, longitude=pointA_longitude)\n",
    "    closest_hotel = result.single()  # Récupérer le premier et unique résultat\n",
    "    \n",
    "# Vérifier s'il y a un hôtel trouvé\n",
    "if closest_hotel:\n",
    "    # Récupérer les informations de l'hôtel le plus proche\n",
    "    nom_hotel = closest_hotel[\"Nom\"]\n",
    "    latitude_hotel = closest_hotel[\"Latitude\"]\n",
    "    longitude_hotel = closest_hotel[\"Longitude\"]\n",
    "    distance_hotel = closest_hotel[\"distance\"]\n",
    "    Nom_Ville  = closest_hotel[\"Nom_Ville\"]\n",
    "    \n",
    "    # Stocker les informations dans une variable Python\n",
    "    hotel_proche = {\n",
    "        \"Nom\": nom_hotel,\n",
    "        \"Latitude\": latitude_hotel,\n",
    "        \"Longitude\": longitude_hotel,\n",
    "        \"Distance\": distance_hotel,\n",
    "        \"Nom_Ville\":Nom_Ville\n",
    "    }\n",
    "    \n",
    "    # Afficher les informations de l'hôtel le plus proche\n",
    "    print(\"L'hôtel le plus proche est :\", hotel_proche)\n",
    "else:\n",
    "    print(\"Aucun hôtel trouvé proche du point A.\")\n",
    "\n"
   ]
  },
  {
   "cell_type": "markdown",
   "id": "fc8f4ead-6e70-4b58-a03c-44c9b728531f",
   "metadata": {},
   "source": [
    "obtenire la position de l'hotel le plus proche ↓"
   ]
  },
  {
   "cell_type": "code",
   "execution_count": null,
   "id": "e57f3cf7-3079-42ad-a310-21dd8a8ba6f2",
   "metadata": {},
   "outputs": [],
   "source": [
    "print(hotel_proche[\"Latitude\"], hotel_proche[\"Longitude\"])\n"
   ]
  }
 ],
 "metadata": {
  "kernelspec": {
   "display_name": "Python 3 (ipykernel)",
   "language": "python",
   "name": "python3"
  },
  "language_info": {
   "codemirror_mode": {
    "name": "ipython",
    "version": 3
   },
   "file_extension": ".py",
   "mimetype": "text/x-python",
   "name": "python",
   "nbconvert_exporter": "python",
   "pygments_lexer": "ipython3",
   "version": "3.8.19"
  }
 },
 "nbformat": 4,
 "nbformat_minor": 5
}
